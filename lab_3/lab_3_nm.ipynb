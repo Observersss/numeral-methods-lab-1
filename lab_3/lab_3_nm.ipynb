{
  "nbformat": 4,
  "nbformat_minor": 0,
  "metadata": {
    "colab": {
      "provenance": [],
      "authorship_tag": "ABX9TyPSxM0kRSk5kvftXTgHR1ds",
      "include_colab_link": true
    },
    "kernelspec": {
      "name": "python3",
      "display_name": "Python 3"
    },
    "language_info": {
      "name": "python"
    }
  },
  "cells": [
    {
      "cell_type": "markdown",
      "metadata": {
        "id": "view-in-github",
        "colab_type": "text"
      },
      "source": [
        "<a href=\"https://colab.research.google.com/github/Recollectionss/numeral-methods/blob/main/lab_3/lab_3_nm.ipynb\" target=\"_parent\"><img src=\"https://colab.research.google.com/assets/colab-badge.svg\" alt=\"Open In Colab\"/></a>"
      ]
    },
    {
      "cell_type": "code",
      "execution_count": 11,
      "metadata": {
        "colab": {
          "base_uri": "https://localhost:8080/"
        },
        "id": "7wfxRnKb1k54",
        "outputId": "bf9bb003-08c0-478c-90e2-9d7648fcde77"
      },
      "outputs": [
        {
          "output_type": "stream",
          "name": "stdout",
          "text": [
            "Матриця Якобі для x = [0.  0.5]: \n",
            "[[1.51554348 0.4844559 ]\n",
            " [0.12370319 2.12370319]]\n",
            "Ітерація 1\n",
            "Значення: [-0.16157356  0.49477309]\n",
            "Ітерація 2\n",
            "Значення: [-0.16049344  0.49311303]\n",
            "Ітерація 3\n",
            "Значення: [-0.16051013  0.49310285]\n",
            "Ітерація 4\n",
            "Значення: [-0.16050991  0.49310232]\n",
            "Розв'язок методом простої ітерації: [-0.16050991  0.49310232]\n"
          ]
        }
      ],
      "source": [
        "import numpy as np\n",
        "\n",
        "# Функція для системи рівнянь F(x) = 0\n",
        "def F(x, funcs):\n",
        "    return np.array([f(x) for f in funcs])\n",
        "\n",
        "# Якобіан функцій F(x) (матриця часткових похідних)\n",
        "def jacobian(x, funcs, num_vars):\n",
        "    jacobian_matrix = np.zeros((num_vars, num_vars))\n",
        "    h = 1e-5  # Малий крок для обчислення похідних (для числового диференціювання)\n",
        "    for i in range(num_vars):\n",
        "        x_h = np.copy(x)\n",
        "        x_h[i] += h  # Збільшуємо i-у змінну на малий крок\n",
        "        jacobian_matrix[:, i] = (F(x_h, funcs) - F(x, funcs)) / h\n",
        "    print(f\"Матриця Якобі для x = {x}: \\n{jacobian_matrix}\")\n",
        "    return jacobian_matrix\n",
        "\n",
        "# Перетворення Phi(x) = x - C * F(x), де C - невироджена матриця\n",
        "def phi(x, C, funcs):\n",
        "    return x - C @ F(x, funcs)\n",
        "\n",
        "# Метод простої ітерації\n",
        "def simple_iteration_method(x0, funcs, tol=1e-6, max_iter=100):\n",
        "    x = np.copy(x0)\n",
        "    num_vars = len(x)\n",
        "    iterations = 0\n",
        "\n",
        "    # Початковий Якобіан для обчислення C\n",
        "    C = np.linalg.inv(jacobian(x, funcs, num_vars))  # Матриця C\n",
        "\n",
        "    for _ in range(max_iter):\n",
        "        iterations += 1\n",
        "        x_new = phi(x, C, funcs)  # Нова ітерація\n",
        "\n",
        "        # Виводимо значення на кожній ітерації\n",
        "        print(f\"Ітерація {iterations}\")\n",
        "        print(f\"Значення: {x_new}\")\n",
        "\n",
        "        # Перевірка на точність\n",
        "        if np.linalg.norm(x_new - x) < tol:\n",
        "            return x_new\n",
        "\n",
        "        x = x_new\n",
        "    return None  # Якщо не знайдено розв'язок за max_iter ітерацій\n",
        "\n",
        "# Приклад використання\n",
        "\n",
        "# Кілька рівнянь для тесту\n",
        "def f1(x):\n",
        "    return 2 * x[0] - np.sin((x[0] - x[1]) / 2)\n",
        "\n",
        "def f2(x):\n",
        "    return 2 * x[1] - np.cos((x[0] + x[1]) / 2)\n",
        "\n",
        "# Список функцій для системи рівнянь\n",
        "funcs = [f1, f2]\n",
        "\n",
        "# Початкове наближення\n",
        "x0 = np.array([0, 0.5])\n",
        "\n",
        "# Запускаємо методи\n",
        "solution_simple_iteration = simple_iteration_method(x0, funcs, tol=1e-5)\n",
        "\n",
        "# Вивід результатів\n",
        "print(\"Розв'язок методом простої ітерації:\", solution_simple_iteration)\n"
      ]
    }
  ]
}